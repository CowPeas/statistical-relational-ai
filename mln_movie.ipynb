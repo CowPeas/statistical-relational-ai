{
 "cells": [
  {
   "attachments": {},
   "cell_type": "markdown",
   "metadata": {},
   "source": [
    "Here is an implemention of Markov Logic Networks on the  Movielens dataset for predicting what type of genre a movie will likely belong to given the actors."
   ]
  },
  {
   "cell_type": "code",
   "execution_count": null,
   "metadata": {
    "vscode": {
     "languageId": "plaintext"
    }
   },
   "outputs": [],
   "source": [
    "import numpy as np\n",
    "import pandas as pd\n",
    "import pyswip.prolog as prolog"
   ]
  },
  {
   "attachments": {},
   "cell_type": "markdown",
   "metadata": {},
   "source": [
    "Load the Movielens dataset"
   ]
  },
  {
   "cell_type": "code",
   "execution_count": null,
   "metadata": {
    "vscode": {
     "languageId": "plaintext"
    }
   },
   "outputs": [],
   "source": [
    "\n",
    "\n",
    "movies_df = pd.read_csv('path/to/movies.csv')\n",
    "ratings_df = pd.read_csv('path/to/ratings.csv')\n",
    "tags_df = pd.read_csv('path/to/tags.csv')"
   ]
  },
  {
   "attachments": {},
   "cell_type": "markdown",
   "metadata": {},
   "source": [
    "Merge the dataframes"
   ]
  },
  {
   "cell_type": "code",
   "execution_count": null,
   "metadata": {
    "vscode": {
     "languageId": "plaintext"
    }
   },
   "outputs": [],
   "source": [
    "\n",
    "\n",
    "movie_ratings_df = pd.merge(movies_df, ratings_df, on='movieId')\n",
    "movie_tags_df = pd.merge(movies_df, tags_df, on='movieId')\n",
    "movie_ratings_tags_df = pd.merge(movie_ratings_df, movie_tags_df, on='movieId')"
   ]
  },
  {
   "attachments": {},
   "cell_type": "markdown",
   "metadata": {},
   "source": [
    "Convert dataframe to Prolog format"
   ]
  },
  {
   "cell_type": "code",
   "execution_count": null,
   "metadata": {
    "vscode": {
     "languageId": "plaintext"
    }
   },
   "outputs": [],
   "source": [
    "\n",
    "def to_prolog(df):\n",
    "    prolog_str = ''\n",
    "    for i, row in df.iterrows():\n",
    "        prolog_str += 'rating({},{},{}).\\n'.format(row['userId'], row['movieId'], row['rating'])\n",
    "        prolog_str += 'tag({},{},{}).\\n'.format(row['userId'], row['movieId'], row['tag'])\n",
    "        prolog_str += 'genre({},{},{}).\\n'.format(row['movieId'], row['genre'], 1)\n",
    "        prolog_str += 'actor({},{},{}).\\n'.format(row['movieId'], row['actor'], 1)\n",
    "    return prolog_str\n",
    "\n",
    "prolog_str = to_prolog(movie_ratings_tags_df)"
   ]
  },
  {
   "attachments": {},
   "cell_type": "markdown",
   "metadata": {},
   "source": [
    "Initialize Prolog engine"
   ]
  },
  {
   "cell_type": "code",
   "execution_count": null,
   "metadata": {
    "vscode": {
     "languageId": "plaintext"
    }
   },
   "outputs": [],
   "source": [
    "\n",
    "engine = prolog.Logic()"
   ]
  },
  {
   "attachments": {},
   "cell_type": "markdown",
   "metadata": {},
   "source": [
    "Assert Prolog clauses"
   ]
  },
  {
   "cell_type": "code",
   "execution_count": null,
   "metadata": {
    "vscode": {
     "languageId": "plaintext"
    }
   },
   "outputs": [],
   "source": [
    "\n",
    "engine.assertz(prolog_str)"
   ]
  },
  {
   "attachments": {},
   "cell_type": "markdown",
   "metadata": {},
   "source": [
    "Define Markov Logic Network (MLN) predicates"
   ]
  },
  {
   "cell_type": "code",
   "execution_count": null,
   "metadata": {
    "vscode": {
     "languageId": "plaintext"
    }
   },
   "outputs": [],
   "source": [
    "\n",
    "mln_predicates = {\n",
    "    'rating': 'rating(_,_,_)',\n",
    "    'tag': 'tag(_,_,_)',\n",
    "    'genre': 'genre(_,_,_)',\n",
    "    'actor': 'actor(_,_,_)'\n",
    "}"
   ]
  },
  {
   "attachments": {},
   "cell_type": "markdown",
   "metadata": {},
   "source": [
    "Define Markov Logic Network (MLN) formulas"
   ]
  },
  {
   "cell_type": "code",
   "execution_count": null,
   "metadata": {
    "vscode": {
     "languageId": "plaintext"
    }
   },
   "outputs": [],
   "source": [
    "\n",
    "mln_formulas = [\n",
    "    '0.5 genre(M, G, 1) :- actor(M, A, 1), genre(M, G, 1)',\n",
    "    '0.5 genre(M, G, 1) :- actor(M, A, 1), tag(U, M, T), tag(M, U, T), genre(M, G, 1)',\n",
    "    '0.5 genre(M, G, 1) :- actor(M, A, 1), rating(U, M, R), rating(M, U, R), genre(M, G, 1)'\n",
    "]"
   ]
  },
  {
   "attachments": {},
   "cell_type": "markdown",
   "metadata": {},
   "source": [
    "Compile MLN predicates and formulas into a Prolog program"
   ]
  },
  {
   "cell_type": "code",
   "execution_count": null,
   "metadata": {
    "vscode": {
     "languageId": "plaintext"
    }
   },
   "outputs": [],
   "source": [
    "\n",
    "prolog_program = ''\n",
    "for predicate in mln_predicates.values():\n",
    "    prolog_program += predicate + '\\n'\n",
    "for formula in mln_formulas:\n",
    "    prolog_program += formula + '\\n'"
   ]
  },
  {
   "attachments": {},
   "cell_type": "markdown",
   "metadata": {},
   "source": [
    "Load the Prolog program"
   ]
  },
  {
   "cell_type": "code",
   "execution_count": null,
   "metadata": {
    "vscode": {
     "languageId": "plaintext"
    }
   },
   "outputs": [],
   "source": [
    "\n",
    "engine.consult(prolog_program)"
   ]
  },
  {
   "attachments": {},
   "cell_type": "markdown",
   "metadata": {},
   "source": [
    "Query the Prolog engine to predict movie genres"
   ]
  },
  {
   "cell_type": "code",
   "execution_count": null,
   "metadata": {
    "vscode": {
     "languageId": "plaintext"
    }
   },
   "outputs": [],
   "source": [
    "\n",
    "def predict_movie_genre(movie_id):\n",
    "    query = 'genre({},G,1)'.format(movie_id)\n",
    "    solutions = list(engine.query(query))\n",
    "    genre_counts = {}\n",
    "    for solution in solutions:\n",
    "        genre = solution['G']\n",
    "        if genre in genre_counts:\n",
    "            genre_counts[genre] += 1\n",
    "        else:\n",
    "            genre_counts[genre] = 1\n",
    "    return max(genre_counts, key=genre_counts.get)"
   ]
  },
  {
   "attachments": {},
   "cell_type": "markdown",
   "metadata": {},
   "source": [
    "test"
   ]
  },
  {
   "cell_type": "code",
   "execution_count": null,
   "metadata": {
    "vscode": {
     "languageId": "plaintext"
    }
   },
   "outputs": [],
   "source": [
    "movie_id = 1\n",
    "predicted_genre = predict_movie_genre(movie_id)\n",
    "print('The predicted genre for movie {} is {}'.format(movie_id, predicted_genre))"
   ]
  }
 ],
 "metadata": {
  "language_info": {
   "name": "python"
  },
  "orig_nbformat": 4
 },
 "nbformat": 4,
 "nbformat_minor": 2
}
