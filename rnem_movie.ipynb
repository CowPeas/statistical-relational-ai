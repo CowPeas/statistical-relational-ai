{
 "cells": [
  {
   "attachments": {},
   "cell_type": "markdown",
   "metadata": {},
   "source": [
    "Using TensorFlow and the RNEM model on the MovieLens dataset to recommend a movie to a user based on their past ratings."
   ]
  },
  {
   "cell_type": "code",
   "execution_count": null,
   "metadata": {
    "vscode": {
     "languageId": "plaintext"
    }
   },
   "outputs": [],
   "source": [
    "import pandas as pd\n",
    "import numpy as np\n",
    "import tensorflow as tf"
   ]
  },
  {
   "attachments": {},
   "cell_type": "markdown",
   "metadata": {},
   "source": [
    "Load the MovieLens dataset"
   ]
  },
  {
   "cell_type": "code",
   "execution_count": null,
   "metadata": {
    "vscode": {
     "languageId": "plaintext"
    }
   },
   "outputs": [],
   "source": [
    "\n",
    "movies_df = pd.read_csv(\"https://cdn.sstatic.net/datasets/movielens/ml-latest-small/movies.csv\")\n",
    "ratings_df = pd.read_csv(\"https://cdn.sstatic.net/datasets/movielens/ml-latest-small/ratings.csv\")"
   ]
  },
  {
   "attachments": {},
   "cell_type": "markdown",
   "metadata": {},
   "source": [
    "Filter the dataset to only include movies and users with a certain number of ratings"
   ]
  },
  {
   "cell_type": "code",
   "execution_count": null,
   "metadata": {
    "vscode": {
     "languageId": "plaintext"
    }
   },
   "outputs": [],
   "source": [
    "\n",
    "min_movie_ratings = 50\n",
    "min_user_ratings = 50\n",
    "movie_counts = ratings_df[\"movieId\"].value_counts()\n",
    "user_counts = ratings_df[\"userId\"].value_counts()\n",
    "valid_movies = movie_counts[movie_counts >= min_movie_ratings].index\n",
    "valid_users = user_counts[user_counts >= min_user_ratings].index\n",
    "ratings_df = ratings_df[(ratings_df[\"movieId\"].isin(valid_movies)) & (ratings_df[\"userId\"].isin(valid_users))]"
   ]
  },
  {
   "attachments": {},
   "cell_type": "markdown",
   "metadata": {},
   "source": [
    "Map movie and user IDs to contiguous integers"
   ]
  },
  {
   "cell_type": "code",
   "execution_count": null,
   "metadata": {
    "vscode": {
     "languageId": "plaintext"
    }
   },
   "outputs": [],
   "source": [
    "\n",
    "unique_movies = ratings_df[\"movieId\"].unique()\n",
    "unique_users = ratings_df[\"userId\"].unique()\n",
    "movie_id_map = dict(zip(unique_movies, range(len(unique_movies))))\n",
    "user_id_map = dict(zip(unique_users, range(len(unique_users))))\n",
    "ratings_df[\"movieId\"] = ratings_df[\"movieId\"].map(movie_id_map)\n",
    "ratings_df[\"userId\"] = ratings_df[\"userId\"].map(user_id_map)"
   ]
  },
  {
   "attachments": {},
   "cell_type": "markdown",
   "metadata": {},
   "source": [
    "Split the dataset into training and testing sets"
   ]
  },
  {
   "cell_type": "code",
   "execution_count": null,
   "metadata": {
    "vscode": {
     "languageId": "plaintext"
    }
   },
   "outputs": [],
   "source": [
    "\n",
    "train_ratio = 0.8\n",
    "train_mask = np.random.rand(len(ratings_df)) < train_ratio\n",
    "train_ratings = ratings_df[train_mask]\n",
    "test_ratings = ratings_df[~train_mask]"
   ]
  },
  {
   "attachments": {},
   "cell_type": "markdown",
   "metadata": {},
   "source": [
    "Compute the number of entities and relations"
   ]
  },
  {
   "cell_type": "code",
   "execution_count": null,
   "metadata": {
    "vscode": {
     "languageId": "plaintext"
    }
   },
   "outputs": [],
   "source": [
    "\n",
    "num_movies = len(unique_movies)\n",
    "num_users = len(unique_users)\n",
    "num_ratings = len(ratings_df)\n",
    "num_relations = 2\n",
    "num_entities = num_movies + num_users"
   ]
  },
  {
   "attachments": {},
   "cell_type": "markdown",
   "metadata": {},
   "source": [
    "Define the RNEM model architecture"
   ]
  },
  {
   "cell_type": "code",
   "execution_count": null,
   "metadata": {
    "vscode": {
     "languageId": "plaintext"
    }
   },
   "outputs": [],
   "source": [
    "\n",
    "def RNEM(num_relations, num_entities, hidden_size):\n",
    "    # Define placeholders for input data\n",
    "    relations = tf.placeholder(tf.float32, [None, num_relations])\n",
    "    entities = tf.placeholder(tf.float32, [None, num_entities])\n",
    "\n",
    "    # Define a fully connected layer to encode the relations\n",
    "    relations_encoding = tf.layers.dense(relations, hidden_size, activation=tf.nn.relu)\n",
    "\n",
    "    # Define a fully connected layer to encode the entities\n",
    "    entities_encoding = tf.layers.dense(entities, hidden_size, activation=tf.nn.relu)\n",
    "\n",
    "    # Define a matrix multiplication layer to compute the likelihoods of each relation\n",
    "    logits = tf.matmul(relations_encoding, tf.transpose(entities_encoding))\n",
    "\n",
    "    # Define a sigmoid activation function to compute the probabilities\n",
    "    probabilities = tf.nn.sigmoid(logits)\n",
    "\n",
    "    # Define a placeholder for the ground truth data\n",
    "    ground_truth = tf.placeholder(tf.float32, [None, num_relations])\n",
    "\n",
    "    # Define a binary cross-entropy loss function\n",
    "    loss = tf.reduce_mean(tf.nn.sigmoid_cross_entropy_with_logits(labels=ground_truth, logits=logits))\n",
    "\n",
    "    # Define an optimizer to minimize the loss\n",
    "    optimizer = tf.train.AdamOptimizer(learning_rate=0.01).minimize(loss)\n",
    "\n",
    "    # Return the model components\n",
    "    return relations, entities, probabilities, ground_truth, loss, optimizer\n"
   ]
  },
  {
   "attachments": {},
   "cell_type": "markdown",
   "metadata": {},
   "source": [
    "Instantiate the RNEM model"
   ]
  },
  {
   "cell_type": "code",
   "execution_count": null,
   "metadata": {
    "vscode": {
     "languageId": "plaintext"
    }
   },
   "outputs": [],
   "source": [
    "\n",
    "hidden_size = 50\n",
    "relations, entities, probabilities, ground_truth, loss, optimizer = RNEM(num_relations, num_entities, hidden_size)"
   ]
  },
  {
   "attachments": {},
   "cell_type": "markdown",
   "metadata": {},
   "source": [
    "Initialize a TensorFlow session and run the optimizer"
   ]
  },
  {
   "cell_type": "code",
   "execution_count": null,
   "metadata": {
    "vscode": {
     "languageId": "plaintext"
    }
   },
   "outputs": [],
   "source": [
    "\n",
    "with tf.Session() as sess:\n",
    "    sess.run(tf.global_variables_initializer())\n",
    "    for i in range(100):\n",
    "        # Sample a batch of training data\n",
    "        batch_size = 1000\n",
    "        indices = np.random.choice(len(train_ratings), batch_size)\n",
    "        batch_relations = np.zeros((batch_size, num_relations))\n",
    "        batch_entities = np.zeros((batch_size, num_entities))\n",
    "        batch_ground_truth = np.zeros((batch_size, num_relations))\n",
    "        for j, index in enumerate(indices):\n",
    "            row = train_ratings.iloc[index]\n",
    "            batch_relations[j, 0] = 1\n",
    "            batch_entities[j, row[\"userId\"]] = 1\n",
    "            batch_entities[j, num_users + row[\"movieId\"]] = 1\n",
    "            batch_ground_truth[j, 0] = row[\"rating\"] / 5\n",
    "        # Train the model on the batch\n",
    "        feed_dict = {relations: batch_relations, entities: batch_entities, ground_truth: batch_ground_truth}\n",
    "        _, batch_loss = sess.run([optimizer, loss], feed_dict=feed_dict)\n",
    "        # Print the training loss\n",
    "        if i % 10 == 0:\n",
    "            print(\"Epoch %d: loss = %.6f\" % (i, batch_loss))"
   ]
  },
  {
   "attachments": {},
   "cell_type": "markdown",
   "metadata": {},
   "source": [
    "   Compute the probabilities for each movie and print out the recommended movie based on user"
   ]
  },
  {
   "cell_type": "code",
   "execution_count": null,
   "metadata": {
    "vscode": {
     "languageId": "plaintext"
    }
   },
   "outputs": [],
   "source": [
    "\n",
    "    user_id = 0\n",
    "    user_entities = np.zeros((num_users, num_entities))\n",
    "    user_entities[:, user_id] = 1\n",
    "    movie_entities = np.zeros((num_movies, num_entities))\n",
    "    movie_entities[:, num_users:] = np.eye(num_movies)\n",
    "    user_relations = np.zeros((num_users, num_relations))\n",
    "    user_relations[:, 0] = 1\n",
    "    feed_dict = {relations: user_relations, entities: np.concatenate([user_entities, movie_entities], axis=0)}\n",
    "    user_probabilities = sess.run(probabilities, feed_dict=feed_dict)[0, num_users:]\n",
    "    top_indices = np.argsort(user_probabilities)[::-1][:10]\n",
    "    top_movies = [movies_df[movies_df[\"movieId\"] == movie_id_map[index]].iloc[0][\"title\"] for index in top_indices]\n",
    "    "
   ]
  },
  {
   "cell_type": "code",
   "execution_count": null,
   "metadata": {
    "vscode": {
     "languageId": "plaintext"
    }
   },
   "outputs": [],
   "source": [
    "print(\"Top recommended movies for user %d:\" % user_id)\n",
    "    for i, movie in enumerate(top_movies):\n",
    "        print(\"%d. %s\" % (i + 1, movie)))"
   ]
  }
 ],
 "metadata": {
  "language_info": {
   "name": "python"
  },
  "orig_nbformat": 4
 },
 "nbformat": 4,
 "nbformat_minor": 2
}
