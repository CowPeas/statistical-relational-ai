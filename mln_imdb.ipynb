{
 "cells": [
  {
   "attachments": {},
   "cell_type": "markdown",
   "metadata": {},
   "source": [
    " Markov Logic Networks on the public IMDB movie dataset for predicting which actors will likely work together in a future movie"
   ]
  },
  {
   "cell_type": "code",
   "execution_count": null,
   "metadata": {},
   "outputs": [],
   "source": [
    "import numpy as np\n",
    "import pandas as pd\n",
    "import markovlogicnet"
   ]
  },
  {
   "attachments": {},
   "cell_type": "markdown",
   "metadata": {},
   "source": [
    "Load the IMDB dataset into a Pandas DataFrame"
   ]
  },
  {
   "cell_type": "code",
   "execution_count": null,
   "metadata": {},
   "outputs": [],
   "source": [
    "\n",
    "imdb_data = pd.read_csv('path/to/imdb/data.csv')"
   ]
  },
  {
   "attachments": {},
   "cell_type": "markdown",
   "metadata": {},
   "source": [
    "\n",
    "Extract the list of actors and the list of movies from the dataset"
   ]
  },
  {
   "cell_type": "code",
   "execution_count": null,
   "metadata": {},
   "outputs": [],
   "source": [
    "\n",
    "actors = imdb_data['actor_name'].unique().tolist()\n",
    "movies = imdb_data['movie_title'].unique().tolist()"
   ]
  },
  {
   "attachments": {},
   "cell_type": "markdown",
   "metadata": {},
   "source": [
    "Define the predicates that we will use in our MLN formulas"
   ]
  },
  {
   "cell_type": "code",
   "execution_count": null,
   "metadata": {},
   "outputs": [],
   "source": [
    "\n",
    "PRED_ACTOR = markovlogicnet.Predicate('Actor', 1)\n",
    "PRED_MOVIE = markovlogicnet.Predicate('Movie', 1)\n",
    "PRED_ACTED_IN = markovlogicnet.Predicate('ActedIn', 2)\n",
    "PRED_WILL_ACT_IN = markovlogicnet.Predicate('WillActIn', 2)"
   ]
  },
  {
   "attachments": {},
   "cell_type": "markdown",
   "metadata": {},
   "source": [
    "Define the MLN formulas"
   ]
  },
  {
   "cell_type": "code",
   "execution_count": null,
   "metadata": {},
   "outputs": [],
   "source": [
    "\n",
    "formulas = [\n",
    "    markovlogicnet.LogicFormula(weight=1, logic='1 { WillActIn(x, y) : Actor(x), Movie(y), !ActedIn(x, y) } 1'),\n",
    "    markovlogicnet.LogicFormula(weight=2, logic='1 { WillActIn(x, y) : Actor(x), Movie(y) } 1')\n",
    "]"
   ]
  },
  {
   "attachments": {},
   "cell_type": "markdown",
   "metadata": {},
   "source": [
    "Create a Markov Logic Network object and add the predicates and formulas to it"
   ]
  },
  {
   "cell_type": "code",
   "execution_count": null,
   "metadata": {},
   "outputs": [],
   "source": [
    "\n",
    "mln = markovlogicnet.MarkovLogicNetwork()\n",
    "mln.add_predicate(PRED_ACTOR)\n",
    "mln.add_predicate(PRED_MOVIE)\n",
    "mln.add_predicate(PRED_ACTED_IN)\n",
    "mln.add_predicate(PRED_WILL_ACT_IN)\n",
    "mln.add_formula(formulas)"
   ]
  },
  {
   "attachments": {},
   "cell_type": "markdown",
   "metadata": {},
   "source": [
    "Create a set of ground atoms representing the actors and movies in the dataset"
   ]
  },
  {
   "cell_type": "code",
   "execution_count": null,
   "metadata": {},
   "outputs": [],
   "source": [
    "\n",
    "ground_atoms = []\n",
    "for actor in actors:\n",
    "    ground_atoms.append(markovlogicnet.GroundAtom(predicate=PRED_ACTOR, arguments=[actor]))\n",
    "for movie in movies:\n",
    "    ground_atoms.append(markovlogicnet.GroundAtom(predicate=PRED_MOVIE, arguments=[movie]))"
   ]
  },
  {
   "attachments": {},
   "cell_type": "markdown",
   "metadata": {},
   "source": [
    "Add the ground atoms to the MLN object"
   ]
  },
  {
   "cell_type": "code",
   "execution_count": null,
   "metadata": {},
   "outputs": [],
   "source": [
    "\n",
    "mln.add_atoms(ground_atoms)"
   ]
  },
  {
   "attachments": {},
   "cell_type": "markdown",
   "metadata": {},
   "source": [
    "Create a set of evidence atoms representing the actors and movies that have already worked together"
   ]
  },
  {
   "cell_type": "code",
   "execution_count": null,
   "metadata": {},
   "outputs": [],
   "source": [
    "\n",
    "evidence_atoms = []\n",
    "for index, row in imdb_data.iterrows():\n",
    "    actor = row['actor_name']\n",
    "    movie = row['movie_title']\n",
    "    evidence_atoms.append(markovlogicnet.GroundAtom(predicate=PRED_ACTED_IN, arguments=[actor, movie]))"
   ]
  },
  {
   "attachments": {},
   "cell_type": "markdown",
   "metadata": {},
   "source": [
    "Learn the weights of the MLN using the evidence atoms as training data"
   ]
  },
  {
   "cell_type": "code",
   "execution_count": null,
   "metadata": {},
   "outputs": [],
   "source": [
    "\n",
    "mln.learn_weights(evidence_atoms)"
   ]
  },
  {
   "attachments": {},
   "cell_type": "markdown",
   "metadata": {},
   "source": [
    "Use the MLN to predict which actors are likely to work together in a future movie"
   ]
  },
  {
   "cell_type": "code",
   "execution_count": null,
   "metadata": {},
   "outputs": [],
   "source": [
    "\n",
    "predicted_atoms = mln.infer_query([PRED_WILL_ACT_IN])\n",
    "predicted_tuples = [atom.arguments for atom in predicted_atoms]\n",
    "predicted_actors = list(set([t[0] for t in predicted_tuples]))\n",
    "print(\"Predicted actors:\", predicted_actors)"
   ]
  }
 ],
 "metadata": {
  "language_info": {
   "name": "python"
  },
  "orig_nbformat": 4
 },
 "nbformat": 4,
 "nbformat_minor": 2
}
